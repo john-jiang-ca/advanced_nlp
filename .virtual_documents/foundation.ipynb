import numpy
x_1 = numpy.array([1, 1, 2, 3])
x_2 = numpy.array([3, 3, 2, 3])
distance = numpy.linalg.norm(x_1 - x_2)
print(distance)


# In real world, the length of the array will be different, e.g.
x1 = numpy.array([1,2,2,3])
x2 = numpy.array([2,2,2,3,3,1,1,1,2,2,3,4,5,5,1,1,])


import numpy as np
import sys


def euc_dist(v1, v2):
  """
  define the distance
  """
  return np.abs(v1-v2)


def dtw(s, t):
  """
  We will use DP to calculate the minimum distance bwtween the two sequences
  s: source sequence
  t: target sequence
  """
  m, n = len(s), len(t)
  dtw = np.zeros((m, n))
  dtw.fill(sys.maxsize)

  # init
  dtw[0,0] = euc_dist(s[0], t[0])
  for i in range (1,m):
    dtw[i,0] = dtw[i-1,0] + euc_dist(s[i], t[0])
  for i in range (1,n):
    dtw[0,i] = dtw[0,i-1] + euc_dist(s[0], t[i])

  for i in range(1, m): # dp[][]
    for j in range(1,n):
      cost = euc_dist(s[i], t[j])
      ds = []
      ds.append(cost+dtw[i-1, j])
      ds.append(cost+dtw[i,j-1])
      ds.append(cost+dtw[i-1,j-1])
      ds.append(cost + dtw[i-1,j-2] if j>1 else sys.maxsize)
      ds.append(cost+dtw[i-2,j-1] if i>2 else sys.maxsize)
      dtw[i,j] = min(ds)
  return dtw[m-1, n-1]

dtw([5,6,9], [5,6,7, 8])



